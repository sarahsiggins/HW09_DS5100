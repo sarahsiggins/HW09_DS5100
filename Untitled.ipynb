{
 "cells": [
  {
   "cell_type": "code",
   "execution_count": 5,
   "id": "29b2a331-7673-44c5-9a9c-d44d2a96c1dd",
   "metadata": {
    "tags": []
   },
   "outputs": [
    {
     "name": "stdout",
     "output_type": "stream",
     "text": [
      ".:\n",
      "total 11\n",
      "drwx--S--- 3 sc8rg users 4096 Nov  9 15:23 booklover\n",
      "drwx--S--- 2 sc8rg users 4096 Nov  9 15:27 hw09.egg-info\n",
      "-rw------- 1 sc8rg users 6807 Nov  9 15:29 HW09.ipynb\n",
      "-rw------- 1 sc8rg users 1071 Nov  9 15:18 LICENSE\n",
      "-rw------- 1 sc8rg users   13 Nov  9 15:18 README.md\n",
      "-rw------- 1 sc8rg users  319 Nov  9 15:20 setup.py\n",
      "-rw------- 1 sc8rg users   72 Nov  9 15:28 Untitled.ipynb\n",
      "-rw------- 1 sc8rg users    0 Nov  9 15:28 untitled.py\n",
      "\n",
      "./booklover:\n",
      "total 2\n",
      "-rw------- 1 sc8rg users 1454 Nov  9 15:21 booklover.py\n",
      "-rw------- 1 sc8rg users 3043 Nov  9 15:21 booklover_test.py\n",
      "-rw------- 1 sc8rg users   16 Nov  9 15:21 __init__.py\n",
      "\n",
      "./hw09.egg-info:\n",
      "total 2\n",
      "-rw------- 1 sc8rg users   1 Nov  9 15:27 dependency_links.txt\n",
      "-rw------- 1 sc8rg users 258 Nov  9 15:27 PKG-INFO\n",
      "-rw------- 1 sc8rg users 211 Nov  9 15:27 SOURCES.txt\n",
      "-rw------- 1 sc8rg users  10 Nov  9 15:27 top_level.txt\n"
     ]
    }
   ],
   "source": [
    "!ls -lR"
   ]
  },
  {
   "cell_type": "code",
   "execution_count": 6,
   "id": "1a17ce6a-84a8-4e90-b711-63a4d6499c54",
   "metadata": {
    "tags": []
   },
   "outputs": [
    {
     "name": "stdout",
     "output_type": "stream",
     "text": [
      "Defaulting to user installation because normal site-packages is not writeable\n",
      "Obtaining file:///sfs/gpfs/tardis/home/sc8rg/Documents/MSDS/DS5100/HW09_DS5100\n",
      "  Preparing metadata (setup.py) ... \u001b[?25ldone\n",
      "\u001b[?25hInstalling collected packages: hw09\n",
      "  Attempting uninstall: hw09\n",
      "    Found existing installation: hw09 0.1\n",
      "    Uninstalling hw09-0.1:\n",
      "      Successfully uninstalled hw09-0.1\n",
      "  Running setup.py develop for hw09\n",
      "Successfully installed hw09-0.1\n",
      "Note: you may need to restart the kernel to use updated packages.\n"
     ]
    }
   ],
   "source": [
    "pip install -e ."
   ]
  },
  {
   "cell_type": "code",
   "execution_count": 9,
   "id": "78f52679-8d49-44e3-a908-895c566c5d84",
   "metadata": {
    "tags": []
   },
   "outputs": [
    {
     "name": "stdout",
     "output_type": "stream",
     "text": [
      "Welcome\n"
     ]
    }
   ],
   "source": [
    "import booklover"
   ]
  },
  {
   "cell_type": "code",
   "execution_count": 13,
   "id": "cfff9425-2ac7-4424-ae54-ef3985982301",
   "metadata": {
    "tags": []
   },
   "outputs": [],
   "source": [
    "import booklover"
   ]
  },
  {
   "cell_type": "code",
   "execution_count": 11,
   "id": "01673202-00f9-4175-bf53-ef609f3235d7",
   "metadata": {
    "tags": []
   },
   "outputs": [
    {
     "ename": "NameError",
     "evalue": "name 'BookLover' is not defined",
     "output_type": "error",
     "traceback": [
      "\u001b[0;31m---------------------------------------------------------------------------\u001b[0m",
      "\u001b[0;31mNameError\u001b[0m                                 Traceback (most recent call last)",
      "Cell \u001b[0;32mIn[11], line 4\u001b[0m\n\u001b[1;32m      1\u001b[0m \u001b[38;5;28;01mimport\u001b[39;00m \u001b[38;5;21;01mpandas\u001b[39;00m \u001b[38;5;28;01mas\u001b[39;00m \u001b[38;5;21;01mpd\u001b[39;00m\n\u001b[1;32m      2\u001b[0m my_book_list \u001b[38;5;241m=\u001b[39m pd\u001b[38;5;241m.\u001b[39mDataFrame({\u001b[38;5;124m'\u001b[39m\u001b[38;5;124mbook_name\u001b[39m\u001b[38;5;124m'\u001b[39m:[\u001b[38;5;124m'\u001b[39m\u001b[38;5;124mJane Eyre\u001b[39m\u001b[38;5;124m'\u001b[39m,\u001b[38;5;124m'\u001b[39m\u001b[38;5;124mFight Club\u001b[39m\u001b[38;5;124m'\u001b[39m,\u001b[38;5;124m'\u001b[39m\u001b[38;5;124mThe Divine Comedy\u001b[39m\u001b[38;5;124m'\u001b[39m,\u001b[38;5;124m'\u001b[39m\u001b[38;5;124mThe Popol Vuh\u001b[39m\u001b[38;5;124m'\u001b[39m]\n\u001b[1;32m      3\u001b[0m                           ,\u001b[38;5;124m'\u001b[39m\u001b[38;5;124mbook_rating\u001b[39m\u001b[38;5;124m'\u001b[39m:[\u001b[38;5;241m4\u001b[39m,\u001b[38;5;241m3\u001b[39m,\u001b[38;5;241m5\u001b[39m,\u001b[38;5;241m5\u001b[39m]})\n\u001b[0;32m----> 4\u001b[0m book_test \u001b[38;5;241m=\u001b[39m \u001b[43mBookLover\u001b[49m(\u001b[38;5;124m'\u001b[39m\u001b[38;5;124mSarah\u001b[39m\u001b[38;5;124m'\u001b[39m,\u001b[38;5;124m'\u001b[39m\u001b[38;5;124msc8rg@vt.edu\u001b[39m\u001b[38;5;124m'\u001b[39m,\u001b[38;5;124m'\u001b[39m\u001b[38;5;124mfiction\u001b[39m\u001b[38;5;124m'\u001b[39m,\u001b[38;5;241m4\u001b[39m,my_book_list)\n",
      "\u001b[0;31mNameError\u001b[0m: name 'BookLover' is not defined"
     ]
    }
   ],
   "source": [
    "import pandas as pd\n",
    "my_book_list = pd.DataFrame({'book_name':['Jane Eyre','Fight Club','The Divine Comedy','The Popol Vuh']\n",
    "                          ,'book_rating':[4,3,5,5]})\n",
    "book_test = BookLover('Sarah','sc8rg@vt.edu','fiction',4,my_book_list)"
   ]
  }
 ],
 "metadata": {
  "kernelspec": {
   "display_name": "Python 3 (ipykernel)",
   "language": "python",
   "name": "python3"
  },
  "language_info": {
   "codemirror_mode": {
    "name": "ipython",
    "version": 3
   },
   "file_extension": ".py",
   "mimetype": "text/x-python",
   "name": "python",
   "nbconvert_exporter": "python",
   "pygments_lexer": "ipython3",
   "version": "3.11.4"
  }
 },
 "nbformat": 4,
 "nbformat_minor": 5
}
